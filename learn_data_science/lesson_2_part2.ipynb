{
 "cells": [
  {
   "cell_type": "code",
   "execution_count": 1,
   "metadata": {},
   "outputs": [],
   "source": [
    "import pandas as pd"
   ]
  },
  {
   "cell_type": "code",
   "execution_count": 2,
   "metadata": {},
   "outputs": [
    {
     "name": "stdout",
     "output_type": "stream",
     "text": [
      "\u001b[31mbus_stops.csv\u001b[m\u001b[m        lesson1.ipynb        lesson_2_part2.ipynb\r\n",
      "\u001b[34menv\u001b[m\u001b[m                  lesson2.ipynb\r\n"
     ]
    }
   ],
   "source": [
    "!ls"
   ]
  },
  {
   "cell_type": "code",
   "execution_count": 3,
   "metadata": {},
   "outputs": [],
   "source": [
    "stations = pd.read_csv(open('bus_stops.csv', 'r', encoding='cp1251'), sep=';')"
   ]
  },
  {
   "cell_type": "code",
   "execution_count": 5,
   "metadata": {},
   "outputs": [
    {
     "data": {
      "text/html": [
       "<div>\n",
       "<style scoped>\n",
       "    .dataframe tbody tr th:only-of-type {\n",
       "        vertical-align: middle;\n",
       "    }\n",
       "\n",
       "    .dataframe tbody tr th {\n",
       "        vertical-align: top;\n",
       "    }\n",
       "\n",
       "    .dataframe thead th {\n",
       "        text-align: right;\n",
       "    }\n",
       "</style>\n",
       "<table border=\"1\" class=\"dataframe\">\n",
       "  <thead>\n",
       "    <tr style=\"text-align: right;\">\n",
       "      <th></th>\n",
       "      <th>ID</th>\n",
       "      <th>Name</th>\n",
       "      <th>Longitude_WGS84</th>\n",
       "      <th>Latitude_WGS84</th>\n",
       "      <th>Street</th>\n",
       "      <th>AdmArea</th>\n",
       "      <th>District</th>\n",
       "      <th>RouteNumbers</th>\n",
       "      <th>StationName</th>\n",
       "      <th>Direction</th>\n",
       "      <th>Pavilion</th>\n",
       "      <th>OperatingOrgName</th>\n",
       "      <th>EntryState</th>\n",
       "      <th>global_id</th>\n",
       "      <th>geoData</th>\n",
       "      <th>Unnamed: 15</th>\n",
       "    </tr>\n",
       "  </thead>\n",
       "  <tbody>\n",
       "    <tr>\n",
       "      <td>0</td>\n",
       "      <td>7</td>\n",
       "      <td>«Дербеневская наб.», 3-й Дербеневский переулок...</td>\n",
       "      <td>37.6551636</td>\n",
       "      <td>55.72566817</td>\n",
       "      <td>3-й Дербеневский переулок</td>\n",
       "      <td>Южный административный округ</td>\n",
       "      <td>Даниловский район</td>\n",
       "      <td>А13; А632</td>\n",
       "      <td>Дербеневская наб.</td>\n",
       "      <td>NaN</td>\n",
       "      <td>да</td>\n",
       "      <td>ГУП «Мосгортранс»</td>\n",
       "      <td>активна</td>\n",
       "      <td>889076457</td>\n",
       "      <td>{type=Point, coordinates=[37.6551636, 55.72566...</td>\n",
       "      <td>NaN</td>\n",
       "    </tr>\n",
       "    <tr>\n",
       "      <td>1</td>\n",
       "      <td>11</td>\n",
       "      <td>«Наб. Тараса Шевченко», набережная Тараса Шевч...</td>\n",
       "      <td>37.57240854</td>\n",
       "      <td>55.74944352</td>\n",
       "      <td>набережная Тараса Шевченко</td>\n",
       "      <td>Западный административный округ</td>\n",
       "      <td>район Дорогомилово</td>\n",
       "      <td>А91</td>\n",
       "      <td>Наб. Тараса Шевченко</td>\n",
       "      <td>NaN</td>\n",
       "      <td>да</td>\n",
       "      <td>ЗАО «Валль-СНГ»</td>\n",
       "      <td>активна</td>\n",
       "      <td>889076459</td>\n",
       "      <td>{type=Point, coordinates=[37.57240854, 55.7494...</td>\n",
       "      <td>NaN</td>\n",
       "    </tr>\n",
       "    <tr>\n",
       "      <td>2</td>\n",
       "      <td>12</td>\n",
       "      <td>«Наб. Тараса Шевченко», набережная Тараса Шевч...</td>\n",
       "      <td>37.57271647</td>\n",
       "      <td>55.74976112</td>\n",
       "      <td>набережная Тараса Шевченко</td>\n",
       "      <td>Западный административный округ</td>\n",
       "      <td>район Дорогомилово</td>\n",
       "      <td>А157; А474; А840; А91</td>\n",
       "      <td>Наб. Тараса Шевченко</td>\n",
       "      <td>NaN</td>\n",
       "      <td>да</td>\n",
       "      <td>ЗАО «Валль-СНГ»</td>\n",
       "      <td>активна</td>\n",
       "      <td>889076460</td>\n",
       "      <td>{type=Point, coordinates=[37.57271647, 55.7497...</td>\n",
       "      <td>NaN</td>\n",
       "    </tr>\n",
       "    <tr>\n",
       "      <td>3</td>\n",
       "      <td>27</td>\n",
       "      <td>«ВКНЦ», 3-я Черепковская улица (27)</td>\n",
       "      <td>37.37550932</td>\n",
       "      <td>55.7572642</td>\n",
       "      <td>3-я Черепковская улица</td>\n",
       "      <td>Западный административный округ</td>\n",
       "      <td>район Кунцево</td>\n",
       "      <td>А660; А798; А816</td>\n",
       "      <td>ВКНЦ</td>\n",
       "      <td>NaN</td>\n",
       "      <td>да</td>\n",
       "      <td>ГУП «Мосгортранс»</td>\n",
       "      <td>активна</td>\n",
       "      <td>889076461</td>\n",
       "      <td>{type=Point, coordinates=[37.37550932, 55.7572...</td>\n",
       "      <td>NaN</td>\n",
       "    </tr>\n",
       "    <tr>\n",
       "      <td>4</td>\n",
       "      <td>33</td>\n",
       "      <td>«Новосущевская ул.», улица Сущёвский Вал (33)</td>\n",
       "      <td>37.60337594</td>\n",
       "      <td>55.79289095</td>\n",
       "      <td>улица Сущёвский Вал</td>\n",
       "      <td>Северо-Восточный административный округ</td>\n",
       "      <td>район Марьина Роща</td>\n",
       "      <td>А126; А384; Тб42; А42Э; А84; АТ18</td>\n",
       "      <td>Новосущевская ул.</td>\n",
       "      <td>NaN</td>\n",
       "      <td>да</td>\n",
       "      <td>ЗАО «Валль-СНГ»</td>\n",
       "      <td>активна</td>\n",
       "      <td>889076463</td>\n",
       "      <td>{type=Point, coordinates=[37.60337594, 55.7928...</td>\n",
       "      <td>NaN</td>\n",
       "    </tr>\n",
       "    <tr>\n",
       "      <td>5</td>\n",
       "      <td>35</td>\n",
       "      <td>«Керамический пр.», Дубнинская улица (35)</td>\n",
       "      <td>37.55724554</td>\n",
       "      <td>55.89460802</td>\n",
       "      <td>Дубнинская улица</td>\n",
       "      <td>Северный административный округ</td>\n",
       "      <td>район Восточное Дегунино</td>\n",
       "      <td>А167; А179; А677; А677К; А799</td>\n",
       "      <td>Керамический пр.</td>\n",
       "      <td>NaN</td>\n",
       "      <td>да</td>\n",
       "      <td>ГУП «Мосгортранс»</td>\n",
       "      <td>активна</td>\n",
       "      <td>889076464</td>\n",
       "      <td>{type=Point, coordinates=[37.55724554, 55.8946...</td>\n",
       "      <td>NaN</td>\n",
       "    </tr>\n",
       "    <tr>\n",
       "      <td>6</td>\n",
       "      <td>36</td>\n",
       "      <td>«Ин-т Стали», Дубнинская улица (36)</td>\n",
       "      <td>37.55729147</td>\n",
       "      <td>55.89142924</td>\n",
       "      <td>Дубнинская улица</td>\n",
       "      <td>Северный административный округ</td>\n",
       "      <td>район Восточное Дегунино</td>\n",
       "      <td>А167; А179; А677; А677К; А799</td>\n",
       "      <td>Ин-т Стали</td>\n",
       "      <td>NaN</td>\n",
       "      <td>да</td>\n",
       "      <td>ГУП «Мосгортранс»</td>\n",
       "      <td>активна</td>\n",
       "      <td>889076465</td>\n",
       "      <td>{type=Point, coordinates=[37.55729147, 55.8914...</td>\n",
       "      <td>NaN</td>\n",
       "    </tr>\n",
       "    <tr>\n",
       "      <td>7</td>\n",
       "      <td>37</td>\n",
       "      <td>«Мкр. Дубки», Дубнинская улица (37)</td>\n",
       "      <td>37.55730686</td>\n",
       "      <td>55.88768746</td>\n",
       "      <td>Дубнинская улица</td>\n",
       "      <td>Северный административный округ</td>\n",
       "      <td>район Восточное Дегунино</td>\n",
       "      <td>А167; А179; А677; А677К; А799</td>\n",
       "      <td>Мкр. Дубки</td>\n",
       "      <td>NaN</td>\n",
       "      <td>да</td>\n",
       "      <td>ГУП «Мосгортранс»</td>\n",
       "      <td>активна</td>\n",
       "      <td>889076466</td>\n",
       "      <td>{type=Point, coordinates=[37.55730686, 55.8876...</td>\n",
       "      <td>NaN</td>\n",
       "    </tr>\n",
       "    <tr>\n",
       "      <td>8</td>\n",
       "      <td>38</td>\n",
       "      <td>«Д/к Юность», Дубнинская улица (38)</td>\n",
       "      <td>37.5573643949</td>\n",
       "      <td>55.8833589241</td>\n",
       "      <td>Дубнинская улица</td>\n",
       "      <td>Северный административный округ</td>\n",
       "      <td>район Восточное Дегунино</td>\n",
       "      <td>А167; А179; А677; А677К; А799</td>\n",
       "      <td>Д/к Юность</td>\n",
       "      <td>NaN</td>\n",
       "      <td>да</td>\n",
       "      <td>ГУП «Мосгортранс»</td>\n",
       "      <td>активна</td>\n",
       "      <td>889076467</td>\n",
       "      <td>{type=Point, coordinates=[37.5573643949, 55.88...</td>\n",
       "      <td>NaN</td>\n",
       "    </tr>\n",
       "    <tr>\n",
       "      <td>9</td>\n",
       "      <td>39</td>\n",
       "      <td>«Баскетбольная школа», улица 800-летия Москвы ...</td>\n",
       "      <td>37.55636146</td>\n",
       "      <td>55.88011364</td>\n",
       "      <td>улица 800-летия Москвы</td>\n",
       "      <td>Северный административный округ</td>\n",
       "      <td>район Восточное Дегунино</td>\n",
       "      <td>А149; А167; А179; А748; А799; А857</td>\n",
       "      <td>Баскетбольная школа</td>\n",
       "      <td>NaN</td>\n",
       "      <td>да</td>\n",
       "      <td>ГУП «Мосгортранс»</td>\n",
       "      <td>активна</td>\n",
       "      <td>889076469</td>\n",
       "      <td>{type=Point, coordinates=[37.55636146, 55.8801...</td>\n",
       "      <td>NaN</td>\n",
       "    </tr>\n",
       "  </tbody>\n",
       "</table>\n",
       "</div>"
      ],
      "text/plain": [
       "   ID                                               Name Longitude_WGS84  \\\n",
       "0   7  «Дербеневская наб.», 3-й Дербеневский переулок...      37.6551636   \n",
       "1  11  «Наб. Тараса Шевченко», набережная Тараса Шевч...     37.57240854   \n",
       "2  12  «Наб. Тараса Шевченко», набережная Тараса Шевч...     37.57271647   \n",
       "3  27                «ВКНЦ», 3-я Черепковская улица (27)     37.37550932   \n",
       "4  33      «Новосущевская ул.», улица Сущёвский Вал (33)     37.60337594   \n",
       "5  35          «Керамический пр.», Дубнинская улица (35)     37.55724554   \n",
       "6  36                «Ин-т Стали», Дубнинская улица (36)     37.55729147   \n",
       "7  37                «Мкр. Дубки», Дубнинская улица (37)     37.55730686   \n",
       "8  38                «Д/к Юность», Дубнинская улица (38)   37.5573643949   \n",
       "9  39  «Баскетбольная школа», улица 800-летия Москвы ...     37.55636146   \n",
       "\n",
       "  Latitude_WGS84                      Street  \\\n",
       "0    55.72566817   3-й Дербеневский переулок   \n",
       "1    55.74944352  набережная Тараса Шевченко   \n",
       "2    55.74976112  набережная Тараса Шевченко   \n",
       "3     55.7572642      3-я Черепковская улица   \n",
       "4    55.79289095         улица Сущёвский Вал   \n",
       "5    55.89460802            Дубнинская улица   \n",
       "6    55.89142924            Дубнинская улица   \n",
       "7    55.88768746            Дубнинская улица   \n",
       "8  55.8833589241            Дубнинская улица   \n",
       "9    55.88011364      улица 800-летия Москвы   \n",
       "\n",
       "                                   AdmArea                  District  \\\n",
       "0             Южный административный округ         Даниловский район   \n",
       "1          Западный административный округ        район Дорогомилово   \n",
       "2          Западный административный округ        район Дорогомилово   \n",
       "3          Западный административный округ             район Кунцево   \n",
       "4  Северо-Восточный административный округ        район Марьина Роща   \n",
       "5          Северный административный округ  район Восточное Дегунино   \n",
       "6          Северный административный округ  район Восточное Дегунино   \n",
       "7          Северный административный округ  район Восточное Дегунино   \n",
       "8          Северный административный округ  район Восточное Дегунино   \n",
       "9          Северный административный округ  район Восточное Дегунино   \n",
       "\n",
       "                         RouteNumbers           StationName Direction  \\\n",
       "0                           А13; А632     Дербеневская наб.       NaN   \n",
       "1                                 А91  Наб. Тараса Шевченко       NaN   \n",
       "2               А157; А474; А840; А91  Наб. Тараса Шевченко       NaN   \n",
       "3                    А660; А798; А816                  ВКНЦ       NaN   \n",
       "4   А126; А384; Тб42; А42Э; А84; АТ18     Новосущевская ул.       NaN   \n",
       "5       А167; А179; А677; А677К; А799      Керамический пр.       NaN   \n",
       "6       А167; А179; А677; А677К; А799            Ин-т Стали       NaN   \n",
       "7       А167; А179; А677; А677К; А799            Мкр. Дубки       NaN   \n",
       "8       А167; А179; А677; А677К; А799            Д/к Юность       NaN   \n",
       "9  А149; А167; А179; А748; А799; А857   Баскетбольная школа       NaN   \n",
       "\n",
       "  Pavilion   OperatingOrgName EntryState  global_id  \\\n",
       "0       да  ГУП «Мосгортранс»    активна  889076457   \n",
       "1       да    ЗАО «Валль-СНГ»    активна  889076459   \n",
       "2       да    ЗАО «Валль-СНГ»    активна  889076460   \n",
       "3       да  ГУП «Мосгортранс»    активна  889076461   \n",
       "4       да    ЗАО «Валль-СНГ»    активна  889076463   \n",
       "5       да  ГУП «Мосгортранс»    активна  889076464   \n",
       "6       да  ГУП «Мосгортранс»    активна  889076465   \n",
       "7       да  ГУП «Мосгортранс»    активна  889076466   \n",
       "8       да  ГУП «Мосгортранс»    активна  889076467   \n",
       "9       да  ГУП «Мосгортранс»    активна  889076469   \n",
       "\n",
       "                                             geoData  Unnamed: 15  \n",
       "0  {type=Point, coordinates=[37.6551636, 55.72566...          NaN  \n",
       "1  {type=Point, coordinates=[37.57240854, 55.7494...          NaN  \n",
       "2  {type=Point, coordinates=[37.57271647, 55.7497...          NaN  \n",
       "3  {type=Point, coordinates=[37.37550932, 55.7572...          NaN  \n",
       "4  {type=Point, coordinates=[37.60337594, 55.7928...          NaN  \n",
       "5  {type=Point, coordinates=[37.55724554, 55.8946...          NaN  \n",
       "6  {type=Point, coordinates=[37.55729147, 55.8914...          NaN  \n",
       "7  {type=Point, coordinates=[37.55730686, 55.8876...          NaN  \n",
       "8  {type=Point, coordinates=[37.5573643949, 55.88...          NaN  \n",
       "9  {type=Point, coordinates=[37.55636146, 55.8801...          NaN  "
      ]
     },
     "execution_count": 5,
     "metadata": {},
     "output_type": "execute_result"
    }
   ],
   "source": [
    "stations.head(10)"
   ]
  },
  {
   "cell_type": "code",
   "execution_count": 13,
   "metadata": {},
   "outputs": [],
   "source": [
    "stations_count = stations.groupby(['Street']).size()"
   ]
  },
  {
   "cell_type": "code",
   "execution_count": 12,
   "metadata": {},
   "outputs": [
    {
     "data": {
      "text/plain": [
       "pandas.core.series.Series"
      ]
     },
     "execution_count": 12,
     "metadata": {},
     "output_type": "execute_result"
    }
   ],
   "source": [
    "type(stations_count)"
   ]
  },
  {
   "cell_type": "code",
   "execution_count": 16,
   "metadata": {},
   "outputs": [],
   "source": [
    "stations_count.sort_values(ascending=False, inplace=True)"
   ]
  },
  {
   "cell_type": "code",
   "execution_count": 17,
   "metadata": {},
   "outputs": [
    {
     "data": {
      "text/plain": [
       "Street\n",
       "проезд без названия        516\n",
       "Варшавское шоссе           162\n",
       "Калужское шоссе            141\n",
       "шоссе Энтузиастов           83\n",
       "Боровское шоссе             80\n",
       "                          ... \n",
       "улица Рудневой               1\n",
       "Ляминский проезд             1\n",
       "Мазиловская улица            1\n",
       "Малая Набережная улица       1\n",
       "1-й Ботанический проезд      1\n",
       "Length: 1515, dtype: int64"
      ]
     },
     "execution_count": 17,
     "metadata": {},
     "output_type": "execute_result"
    }
   ],
   "source": [
    "stations_count"
   ]
  },
  {
   "cell_type": "code",
   "execution_count": 18,
   "metadata": {},
   "outputs": [
    {
     "data": {
      "text/plain": [
       "Street\n",
       "проезд без названия    516\n",
       "Варшавское шоссе       162\n",
       "Калужское шоссе        141\n",
       "шоссе Энтузиастов       83\n",
       "Боровское шоссе         80\n",
       "dtype: int64"
      ]
     },
     "execution_count": 18,
     "metadata": {},
     "output_type": "execute_result"
    }
   ],
   "source": [
    "stations_count[:5]"
   ]
  },
  {
   "cell_type": "code",
   "execution_count": 22,
   "metadata": {},
   "outputs": [
    {
     "data": {
      "text/plain": [
       "Street                   Pavilion\n",
       "1-й Ботанический проезд  нет          1\n",
       "1-й Боткинский проезд    да           2\n",
       "1-й Варшавский проезд    да           2\n",
       "1-й Вешняковский проезд  да           1\n",
       "                         нет          1\n",
       "                                     ..\n",
       "улица Яблочкова          нет          4\n",
       "шоссе Фрезер             да           5\n",
       "                         нет          2\n",
       "шоссе Энтузиастов        да          48\n",
       "                         нет         35\n",
       "Length: 2281, dtype: int64"
      ]
     },
     "execution_count": 22,
     "metadata": {},
     "output_type": "execute_result"
    }
   ],
   "source": [
    "pavilion_count = stations.groupby(['Street', 'Pavilion']).size()\n",
    "pavilion_count"
   ]
  },
  {
   "cell_type": "code",
   "execution_count": null,
   "metadata": {},
   "outputs": [],
   "source": []
  }
 ],
 "metadata": {
  "kernelspec": {
   "display_name": "Python 3",
   "language": "python",
   "name": "python3"
  },
  "language_info": {
   "codemirror_mode": {
    "name": "ipython",
    "version": 3
   },
   "file_extension": ".py",
   "mimetype": "text/x-python",
   "name": "python",
   "nbconvert_exporter": "python",
   "pygments_lexer": "ipython3",
   "version": "3.7.3"
  }
 },
 "nbformat": 4,
 "nbformat_minor": 2
}
