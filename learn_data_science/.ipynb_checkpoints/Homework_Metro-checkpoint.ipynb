{
 "cells": [
  {
   "cell_type": "markdown",
   "metadata": {},
   "source": [
    "# Метро\n",
    "В этом задании требуется определить, на каких станциях московского метро сейчас идёт ремонт эскалаторов и вывести на экран их названия.\n",
    "\n",
    "Файл с данными можно скачать на странице http://data.mos.ru/opendata/624/row/1773539."
   ]
  },
  {
   "cell_type": "code",
   "execution_count": 1,
   "metadata": {},
   "outputs": [
    {
     "name": "stdout",
     "output_type": "stream",
     "text": [
      "Homework_Metro.ipynb\r\n",
      "\u001b[31mbus_stops.csv\u001b[m\u001b[m\r\n",
      "\u001b[31mdata-397-2019-08-27.json\u001b[m\u001b[m\r\n",
      "\u001b[34menv\u001b[m\u001b[m\r\n",
      "homework_Количество_остановок.ipynb\r\n",
      "lesson1.ipynb\r\n",
      "lesson2.ipynb\r\n",
      "lesson_2_part2.ipynb\r\n"
     ]
    }
   ],
   "source": [
    "!ls\n"
   ]
  },
  {
   "cell_type": "code",
   "execution_count": 5,
   "metadata": {},
   "outputs": [],
   "source": [
    "import pandas as pd"
   ]
  },
  {
   "cell_type": "code",
   "execution_count": 9,
   "metadata": {
    "scrolled": true
   },
   "outputs": [
    {
     "data": {
      "text/html": [
       "<div>\n",
       "<style scoped>\n",
       "    .dataframe tbody tr th:only-of-type {\n",
       "        vertical-align: middle;\n",
       "    }\n",
       "\n",
       "    .dataframe tbody tr th {\n",
       "        vertical-align: top;\n",
       "    }\n",
       "\n",
       "    .dataframe thead th {\n",
       "        text-align: right;\n",
       "    }\n",
       "</style>\n",
       "<table border=\"1\" class=\"dataframe\">\n",
       "  <thead>\n",
       "    <tr style=\"text-align: right;\">\n",
       "      <th></th>\n",
       "      <th>0</th>\n",
       "      <th>1</th>\n",
       "      <th>2</th>\n",
       "      <th>3</th>\n",
       "      <th>4</th>\n",
       "      <th>5</th>\n",
       "      <th>6</th>\n",
       "      <th>7</th>\n",
       "      <th>8</th>\n",
       "      <th>9</th>\n",
       "      <th>...</th>\n",
       "      <th>1057</th>\n",
       "      <th>1058</th>\n",
       "      <th>1059</th>\n",
       "      <th>1060</th>\n",
       "      <th>1061</th>\n",
       "      <th>1062</th>\n",
       "      <th>1063</th>\n",
       "      <th>1064</th>\n",
       "      <th>1065</th>\n",
       "      <th>1066</th>\n",
       "    </tr>\n",
       "  </thead>\n",
       "  <tbody>\n",
       "    <tr>\n",
       "      <td>0</td>\n",
       "      <td>{'global_id': 1773538, 'NameOfStation': 'Китай...</td>\n",
       "      <td>{'global_id': 1773539, 'NameOfStation': 'Китай...</td>\n",
       "      <td>{'global_id': 1773540, 'NameOfStation': 'Китай...</td>\n",
       "      <td>{'global_id': 1773541, 'NameOfStation': 'Китай...</td>\n",
       "      <td>{'global_id': 1773542, 'NameOfStation': 'Китай...</td>\n",
       "      <td>{'global_id': 1773543, 'NameOfStation': 'Китай...</td>\n",
       "      <td>{'global_id': 1773544, 'NameOfStation': 'Китай...</td>\n",
       "      <td>{'global_id': 1773545, 'NameOfStation': 'Китай...</td>\n",
       "      <td>{'global_id': 1773546, 'NameOfStation': 'Китай...</td>\n",
       "      <td>{'global_id': 1773547, 'NameOfStation': 'Калуж...</td>\n",
       "      <td>...</td>\n",
       "      <td>{'global_id': 930071455, 'NameOfStation': 'Фил...</td>\n",
       "      <td>{'global_id': 930071460, 'NameOfStation': 'Про...</td>\n",
       "      <td>{'global_id': 930071468, 'NameOfStation': 'Про...</td>\n",
       "      <td>{'global_id': 930071478, 'NameOfStation': 'Оль...</td>\n",
       "      <td>{'global_id': 930071482, 'NameOfStation': 'Ком...</td>\n",
       "      <td>{'global_id': 930071489, 'NameOfStation': 'Ком...</td>\n",
       "      <td>{'global_id': 930071511, 'NameOfStation': 'Ком...</td>\n",
       "      <td>{'global_id': 930071523, 'NameOfStation': 'Ком...</td>\n",
       "      <td>{'global_id': 930238047, 'NameOfStation': 'Кос...</td>\n",
       "      <td>{'global_id': 930240593, 'NameOfStation': 'Кос...</td>\n",
       "    </tr>\n",
       "  </tbody>\n",
       "</table>\n",
       "<p>1 rows × 1067 columns</p>\n",
       "</div>"
      ],
      "text/plain": [
       "                                                0     \\\n",
       "0  {'global_id': 1773538, 'NameOfStation': 'Китай...   \n",
       "\n",
       "                                                1     \\\n",
       "0  {'global_id': 1773539, 'NameOfStation': 'Китай...   \n",
       "\n",
       "                                                2     \\\n",
       "0  {'global_id': 1773540, 'NameOfStation': 'Китай...   \n",
       "\n",
       "                                                3     \\\n",
       "0  {'global_id': 1773541, 'NameOfStation': 'Китай...   \n",
       "\n",
       "                                                4     \\\n",
       "0  {'global_id': 1773542, 'NameOfStation': 'Китай...   \n",
       "\n",
       "                                                5     \\\n",
       "0  {'global_id': 1773543, 'NameOfStation': 'Китай...   \n",
       "\n",
       "                                                6     \\\n",
       "0  {'global_id': 1773544, 'NameOfStation': 'Китай...   \n",
       "\n",
       "                                                7     \\\n",
       "0  {'global_id': 1773545, 'NameOfStation': 'Китай...   \n",
       "\n",
       "                                                8     \\\n",
       "0  {'global_id': 1773546, 'NameOfStation': 'Китай...   \n",
       "\n",
       "                                                9     ...  \\\n",
       "0  {'global_id': 1773547, 'NameOfStation': 'Калуж...  ...   \n",
       "\n",
       "                                                1057  \\\n",
       "0  {'global_id': 930071455, 'NameOfStation': 'Фил...   \n",
       "\n",
       "                                                1058  \\\n",
       "0  {'global_id': 930071460, 'NameOfStation': 'Про...   \n",
       "\n",
       "                                                1059  \\\n",
       "0  {'global_id': 930071468, 'NameOfStation': 'Про...   \n",
       "\n",
       "                                                1060  \\\n",
       "0  {'global_id': 930071478, 'NameOfStation': 'Оль...   \n",
       "\n",
       "                                                1061  \\\n",
       "0  {'global_id': 930071482, 'NameOfStation': 'Ком...   \n",
       "\n",
       "                                                1062  \\\n",
       "0  {'global_id': 930071489, 'NameOfStation': 'Ком...   \n",
       "\n",
       "                                                1063  \\\n",
       "0  {'global_id': 930071511, 'NameOfStation': 'Ком...   \n",
       "\n",
       "                                                1064  \\\n",
       "0  {'global_id': 930071523, 'NameOfStation': 'Ком...   \n",
       "\n",
       "                                                1065  \\\n",
       "0  {'global_id': 930238047, 'NameOfStation': 'Кос...   \n",
       "\n",
       "                                                1066  \n",
       "0  {'global_id': 930240593, 'NameOfStation': 'Кос...  \n",
       "\n",
       "[1 rows x 1067 columns]"
      ]
     },
     "execution_count": 9,
     "metadata": {},
     "output_type": "execute_result"
    }
   ],
   "source": [
    "metro_data = pd.read_json('data-397-2019-08-27.json', orient='columns', encoding='cp1251')\n",
    "metro_data"
   ]
  },
  {
   "cell_type": "code",
   "execution_count": 3,
   "metadata": {},
   "outputs": [
    {
     "ename": "NameError",
     "evalue": "name 'metro_data' is not defined",
     "output_type": "error",
     "traceback": [
      "\u001b[0;31m---------------------------------------------------------------------------\u001b[0m",
      "\u001b[0;31mNameError\u001b[0m                                 Traceback (most recent call last)",
      "\u001b[0;32m<ipython-input-3-9d1f60b6bc2b>\u001b[0m in \u001b[0;36m<module>\u001b[0;34m\u001b[0m\n\u001b[0;32m----> 1\u001b[0;31m \u001b[0mnew_metro_data\u001b[0m \u001b[0;34m=\u001b[0m \u001b[0mmetro_data\u001b[0m\u001b[0;34m[\u001b[0m\u001b[0;34m[\u001b[0m\u001b[0;34m'NameOfStation'\u001b[0m\u001b[0;34m,\u001b[0m \u001b[0;34m'RepairOfEscalators'\u001b[0m\u001b[0;34m]\u001b[0m\u001b[0;34m]\u001b[0m\u001b[0;34m\u001b[0m\u001b[0;34m\u001b[0m\u001b[0m\n\u001b[0m\u001b[1;32m      2\u001b[0m \u001b[0mnew_metro_data\u001b[0m\u001b[0;34m\u001b[0m\u001b[0;34m\u001b[0m\u001b[0m\n",
      "\u001b[0;31mNameError\u001b[0m: name 'metro_data' is not defined"
     ]
    }
   ],
   "source": [
    "new_metro_data = metro_data[['NameOfStation', 'RepairOfEscalators']]\n",
    "new_metro_data"
   ]
  },
  {
   "cell_type": "code",
   "execution_count": 52,
   "metadata": {
    "scrolled": true
   },
   "outputs": [
    {
     "name": "stdout",
     "output_type": "stream",
     "text": [
      "[{'RepairOfEscalators': '31.07.2019-23.08.2019'}]\n",
      "Таганская\n",
      "[{'RepairOfEscalators': '31.07.2019-23.08.2019'}]\n",
      "Таганская\n",
      "[{'RepairOfEscalators': '25.02.2019-24.05.2019'}]\n",
      "ЦСКА\n",
      "2\n"
     ]
    }
   ],
   "source": [
    "d_metro = new_metro_data.to_dict(orient='records')\n",
    "d_metro\n",
    "stations = []\n",
    "for d in range(0, len(d_metro)):\n",
    "    if len(d_metro[d]['RepairOfEscalators']) != 0:\n",
    "        print(d_metro[d]['RepairOfEscalators'])\n",
    "        print(d_metro[d]['NameOfStation'])\n",
    "        if d_metro[d]['NameOfStation'] not in stations:\n",
    "            stations.append(d_metro[d]['NameOfStation'])"
   ]
  },
  {
   "cell_type": "code",
   "execution_count": 54,
   "metadata": {},
   "outputs": [
    {
     "name": "stdout",
     "output_type": "stream",
     "text": [
      "2\n",
      "На станциях следующих станциях метро сейчас идет ремонт:  ['Таганская', 'ЦСКА']\n"
     ]
    }
   ],
   "source": [
    "print(len(stations))\n",
    "print(\"На станциях следующих станциях метро сейчас идет ремонт: \", stations)"
   ]
  },
  {
   "cell_type": "code",
   "execution_count": null,
   "metadata": {},
   "outputs": [],
   "source": []
  }
 ],
 "metadata": {
  "kernelspec": {
   "display_name": "Python 3",
   "language": "python",
   "name": "python3"
  },
  "language_info": {
   "codemirror_mode": {
    "name": "ipython",
    "version": 3
   },
   "file_extension": ".py",
   "mimetype": "text/x-python",
   "name": "python",
   "nbconvert_exporter": "python",
   "pygments_lexer": "ipython3",
   "version": "3.7.3"
  }
 },
 "nbformat": 4,
 "nbformat_minor": 2
}
